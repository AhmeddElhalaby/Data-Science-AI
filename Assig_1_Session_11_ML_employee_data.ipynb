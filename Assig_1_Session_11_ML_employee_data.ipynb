{
 "cells": [
  {
   "cell_type": "code",
   "execution_count": 4,
   "metadata": {},
   "outputs": [],
   "source": [
    "import numpy as np\n",
    "import pandas as pd \n",
    "import matplotlib.pyplot as plt \n",
    "import seaborn as sns \n",
    "import plotly.express as px\n",
    "from collections import Counter\n",
    "from sklearn.impute import SimpleImputer\n",
    "from sklearn.preprocessing import LabelEncoder , OneHotEncoder , StandardScaler , MinMaxScaler ,  PolynomialFeatures\n",
    "from sklearn.model_selection import train_test_split , GridSearchCV\n",
    "from sklearn.metrics import mean_squared_error , mean_absolute_error , mean_absolute_percentage_error , r2_score\n",
    "from sklearn.linear_model import LinearRegression  , Lasso , Ridge\n",
    "from sklearn.preprocessing import PolynomialFeatures\n",
    "from sklearn.neighbors import KNeighborsRegressor\n",
    "from sklearn.tree import DecisionTreeRegressor\n",
    "from sklearn.ensemble import RandomForestRegressor , VotingRegressor , StackingRegressor , BaggingRegressor , GradientBoostingRegressor\n",
    "from sklearn.svm import SVR\n",
    "from xgboost import XGBRegressor\n"
   ]
  },
  {
   "cell_type": "code",
   "execution_count": 6,
   "metadata": {},
   "outputs": [],
   "source": [
    "df = pd.read_csv(\"assignment1 - regression/employee_data.csv\")"
   ]
  },
  {
   "cell_type": "code",
   "execution_count": 7,
   "metadata": {},
   "outputs": [
    {
     "name": "stdout",
     "output_type": "stream",
     "text": [
      "<class 'pandas.core.frame.DataFrame'>\n",
      "RangeIndex: 400 entries, 0 to 399\n",
      "Data columns (total 5 columns):\n",
      " #   Column              Non-Null Count  Dtype \n",
      "---  ------              --------------  ----- \n",
      " 0   ID                  400 non-null    int64 \n",
      " 1   Gender              400 non-null    object\n",
      " 2   Experience (Years)  400 non-null    int64 \n",
      " 3   Position            400 non-null    object\n",
      " 4   Salary              400 non-null    int64 \n",
      "dtypes: int64(3), object(2)\n",
      "memory usage: 15.8+ KB\n"
     ]
    }
   ],
   "source": [
    "df.info()"
   ]
  },
  {
   "cell_type": "code",
   "execution_count": 8,
   "metadata": {},
   "outputs": [
    {
     "data": {
      "text/html": [
       "<div>\n",
       "<style scoped>\n",
       "    .dataframe tbody tr th:only-of-type {\n",
       "        vertical-align: middle;\n",
       "    }\n",
       "\n",
       "    .dataframe tbody tr th {\n",
       "        vertical-align: top;\n",
       "    }\n",
       "\n",
       "    .dataframe thead th {\n",
       "        text-align: right;\n",
       "    }\n",
       "</style>\n",
       "<table border=\"1\" class=\"dataframe\">\n",
       "  <thead>\n",
       "    <tr style=\"text-align: right;\">\n",
       "      <th></th>\n",
       "      <th>ID</th>\n",
       "      <th>Gender</th>\n",
       "      <th>Experience (Years)</th>\n",
       "      <th>Position</th>\n",
       "      <th>Salary</th>\n",
       "    </tr>\n",
       "  </thead>\n",
       "  <tbody>\n",
       "    <tr>\n",
       "      <th>0</th>\n",
       "      <td>1</td>\n",
       "      <td>F</td>\n",
       "      <td>4</td>\n",
       "      <td>DevOps Engineer</td>\n",
       "      <td>109976</td>\n",
       "    </tr>\n",
       "    <tr>\n",
       "      <th>1</th>\n",
       "      <td>2</td>\n",
       "      <td>M</td>\n",
       "      <td>6</td>\n",
       "      <td>DevOps Engineer</td>\n",
       "      <td>120088</td>\n",
       "    </tr>\n",
       "    <tr>\n",
       "      <th>2</th>\n",
       "      <td>3</td>\n",
       "      <td>M</td>\n",
       "      <td>17</td>\n",
       "      <td>Web Developer</td>\n",
       "      <td>181301</td>\n",
       "    </tr>\n",
       "    <tr>\n",
       "      <th>3</th>\n",
       "      <td>4</td>\n",
       "      <td>M</td>\n",
       "      <td>7</td>\n",
       "      <td>Systems Administrator</td>\n",
       "      <td>77530</td>\n",
       "    </tr>\n",
       "    <tr>\n",
       "      <th>4</th>\n",
       "      <td>5</td>\n",
       "      <td>F</td>\n",
       "      <td>13</td>\n",
       "      <td>Systems Administrator</td>\n",
       "      <td>152397</td>\n",
       "    </tr>\n",
       "    <tr>\n",
       "      <th>5</th>\n",
       "      <td>6</td>\n",
       "      <td>F</td>\n",
       "      <td>13</td>\n",
       "      <td>Web Developer</td>\n",
       "      <td>114998</td>\n",
       "    </tr>\n",
       "    <tr>\n",
       "      <th>6</th>\n",
       "      <td>7</td>\n",
       "      <td>F</td>\n",
       "      <td>11</td>\n",
       "      <td>Systems Administrator</td>\n",
       "      <td>82328</td>\n",
       "    </tr>\n",
       "    <tr>\n",
       "      <th>7</th>\n",
       "      <td>8</td>\n",
       "      <td>M</td>\n",
       "      <td>2</td>\n",
       "      <td>DevOps Engineer</td>\n",
       "      <td>111494</td>\n",
       "    </tr>\n",
       "    <tr>\n",
       "      <th>8</th>\n",
       "      <td>9</td>\n",
       "      <td>F</td>\n",
       "      <td>6</td>\n",
       "      <td>DevOps Engineer</td>\n",
       "      <td>105563</td>\n",
       "    </tr>\n",
       "    <tr>\n",
       "      <th>9</th>\n",
       "      <td>10</td>\n",
       "      <td>F</td>\n",
       "      <td>6</td>\n",
       "      <td>IT Manager</td>\n",
       "      <td>162706</td>\n",
       "    </tr>\n",
       "  </tbody>\n",
       "</table>\n",
       "</div>"
      ],
      "text/plain": [
       "   ID Gender  Experience (Years)               Position  Salary\n",
       "0   1      F                   4        DevOps Engineer  109976\n",
       "1   2      M                   6        DevOps Engineer  120088\n",
       "2   3      M                  17          Web Developer  181301\n",
       "3   4      M                   7  Systems Administrator   77530\n",
       "4   5      F                  13  Systems Administrator  152397\n",
       "5   6      F                  13          Web Developer  114998\n",
       "6   7      F                  11  Systems Administrator   82328\n",
       "7   8      M                   2        DevOps Engineer  111494\n",
       "8   9      F                   6        DevOps Engineer  105563\n",
       "9  10      F                   6             IT Manager  162706"
      ]
     },
     "execution_count": 8,
     "metadata": {},
     "output_type": "execute_result"
    }
   ],
   "source": [
    "df.head(10)"
   ]
  },
  {
   "cell_type": "code",
   "execution_count": 9,
   "metadata": {},
   "outputs": [
    {
     "data": {
      "text/plain": [
       "Index(['ID', 'Gender', 'Experience (Years)', 'Position', 'Salary'], dtype='object')"
      ]
     },
     "execution_count": 9,
     "metadata": {},
     "output_type": "execute_result"
    }
   ],
   "source": [
    "df.columns"
   ]
  },
  {
   "cell_type": "code",
   "execution_count": 10,
   "metadata": {},
   "outputs": [
    {
     "data": {
      "text/html": [
       "<div>\n",
       "<style scoped>\n",
       "    .dataframe tbody tr th:only-of-type {\n",
       "        vertical-align: middle;\n",
       "    }\n",
       "\n",
       "    .dataframe tbody tr th {\n",
       "        vertical-align: top;\n",
       "    }\n",
       "\n",
       "    .dataframe thead th {\n",
       "        text-align: right;\n",
       "    }\n",
       "</style>\n",
       "<table border=\"1\" class=\"dataframe\">\n",
       "  <thead>\n",
       "    <tr style=\"text-align: right;\">\n",
       "      <th></th>\n",
       "      <th>ID</th>\n",
       "      <th>Gender</th>\n",
       "      <th>Experience (Years)</th>\n",
       "      <th>Position</th>\n",
       "      <th>Salary</th>\n",
       "    </tr>\n",
       "  </thead>\n",
       "  <tbody>\n",
       "    <tr>\n",
       "      <th>count</th>\n",
       "      <td>400.000000</td>\n",
       "      <td>400</td>\n",
       "      <td>400.000000</td>\n",
       "      <td>400</td>\n",
       "      <td>400.00000</td>\n",
       "    </tr>\n",
       "    <tr>\n",
       "      <th>unique</th>\n",
       "      <td>NaN</td>\n",
       "      <td>2</td>\n",
       "      <td>NaN</td>\n",
       "      <td>11</td>\n",
       "      <td>NaN</td>\n",
       "    </tr>\n",
       "    <tr>\n",
       "      <th>top</th>\n",
       "      <td>NaN</td>\n",
       "      <td>M</td>\n",
       "      <td>NaN</td>\n",
       "      <td>Web Developer</td>\n",
       "      <td>NaN</td>\n",
       "    </tr>\n",
       "    <tr>\n",
       "      <th>freq</th>\n",
       "      <td>NaN</td>\n",
       "      <td>202</td>\n",
       "      <td>NaN</td>\n",
       "      <td>43</td>\n",
       "      <td>NaN</td>\n",
       "    </tr>\n",
       "    <tr>\n",
       "      <th>mean</th>\n",
       "      <td>200.500000</td>\n",
       "      <td>NaN</td>\n",
       "      <td>9.670000</td>\n",
       "      <td>NaN</td>\n",
       "      <td>131701.19750</td>\n",
       "    </tr>\n",
       "    <tr>\n",
       "      <th>std</th>\n",
       "      <td>115.614301</td>\n",
       "      <td>NaN</td>\n",
       "      <td>6.101571</td>\n",
       "      <td>NaN</td>\n",
       "      <td>43351.50899</td>\n",
       "    </tr>\n",
       "    <tr>\n",
       "      <th>min</th>\n",
       "      <td>1.000000</td>\n",
       "      <td>NaN</td>\n",
       "      <td>0.000000</td>\n",
       "      <td>NaN</td>\n",
       "      <td>43643.00000</td>\n",
       "    </tr>\n",
       "    <tr>\n",
       "      <th>25%</th>\n",
       "      <td>100.750000</td>\n",
       "      <td>NaN</td>\n",
       "      <td>4.000000</td>\n",
       "      <td>NaN</td>\n",
       "      <td>100484.75000</td>\n",
       "    </tr>\n",
       "    <tr>\n",
       "      <th>50%</th>\n",
       "      <td>200.500000</td>\n",
       "      <td>NaN</td>\n",
       "      <td>10.000000</td>\n",
       "      <td>NaN</td>\n",
       "      <td>128561.50000</td>\n",
       "    </tr>\n",
       "    <tr>\n",
       "      <th>75%</th>\n",
       "      <td>300.250000</td>\n",
       "      <td>NaN</td>\n",
       "      <td>15.000000</td>\n",
       "      <td>NaN</td>\n",
       "      <td>157735.00000</td>\n",
       "    </tr>\n",
       "    <tr>\n",
       "      <th>max</th>\n",
       "      <td>400.000000</td>\n",
       "      <td>NaN</td>\n",
       "      <td>20.000000</td>\n",
       "      <td>NaN</td>\n",
       "      <td>269950.00000</td>\n",
       "    </tr>\n",
       "  </tbody>\n",
       "</table>\n",
       "</div>"
      ],
      "text/plain": [
       "                ID Gender  Experience (Years)       Position        Salary\n",
       "count   400.000000    400          400.000000            400     400.00000\n",
       "unique         NaN      2                 NaN             11           NaN\n",
       "top            NaN      M                 NaN  Web Developer           NaN\n",
       "freq           NaN    202                 NaN             43           NaN\n",
       "mean    200.500000    NaN            9.670000            NaN  131701.19750\n",
       "std     115.614301    NaN            6.101571            NaN   43351.50899\n",
       "min       1.000000    NaN            0.000000            NaN   43643.00000\n",
       "25%     100.750000    NaN            4.000000            NaN  100484.75000\n",
       "50%     200.500000    NaN           10.000000            NaN  128561.50000\n",
       "75%     300.250000    NaN           15.000000            NaN  157735.00000\n",
       "max     400.000000    NaN           20.000000            NaN  269950.00000"
      ]
     },
     "execution_count": 10,
     "metadata": {},
     "output_type": "execute_result"
    }
   ],
   "source": [
    "df.describe(include=\"all\")"
   ]
  },
  {
   "cell_type": "code",
   "execution_count": 11,
   "metadata": {},
   "outputs": [
    {
     "data": {
      "text/plain": [
       "ID                    0\n",
       "Gender                0\n",
       "Experience (Years)    0\n",
       "Position              0\n",
       "Salary                0\n",
       "dtype: int64"
      ]
     },
     "execution_count": 11,
     "metadata": {},
     "output_type": "execute_result"
    }
   ],
   "source": [
    "df.isna().sum()"
   ]
  },
  {
   "cell_type": "code",
   "execution_count": 12,
   "metadata": {},
   "outputs": [
    {
     "data": {
      "text/plain": [
       "<Axes: xlabel='count', ylabel='Position'>"
      ]
     },
     "execution_count": 12,
     "metadata": {},
     "output_type": "execute_result"
    },
    {
     "data": {
      "image/png": "[encoded data removed]",
      "text/plain": [
       "<Figure size 2000x400 with 2 Axes>"
      ]
     },
     "metadata": {},
     "output_type": "display_data"
    }
   ],
   "source": [
    "plt.figure(figsize=(20,4))\n",
    "plt.subplot(1,2,1)\n",
    "sns.countplot(y=df[\"Gender\"])\n",
    "plt.subplot(1,2,2)\n",
    "sns.countplot(y=df[\"Position\"])"
   ]
  },
  {
   "cell_type": "code",
   "execution_count": 13,
   "metadata": {},
   "outputs": [
    {
     "data": {
      "image/png": "[encoded data removed]",
      "text/plain": [
       "<Figure size 1200x400 with 4 Axes>"
      ]
     },
     "metadata": {},
     "output_type": "display_data"
    }
   ],
   "source": [
    "df.hist( bins = 40 , figsize = (12,4) )\n",
    "plt.show()"
   ]
  },
  {
   "cell_type": "code",
   "execution_count": 14,
   "metadata": {},
   "outputs": [],
   "source": [
    "df.drop(columns=[\"ID\"] , inplace=True)"
   ]
  },
  {
   "cell_type": "code",
   "execution_count": 15,
   "metadata": {},
   "outputs": [
    {
     "data": {
      "text/html": [
       "<div>\n",
       "<style scoped>\n",
       "    .dataframe tbody tr th:only-of-type {\n",
       "        vertical-align: middle;\n",
       "    }\n",
       "\n",
       "    .dataframe tbody tr th {\n",
       "        vertical-align: top;\n",
       "    }\n",
       "\n",
       "    .dataframe thead th {\n",
       "        text-align: right;\n",
       "    }\n",
       "</style>\n",
       "<table border=\"1\" class=\"dataframe\">\n",
       "  <thead>\n",
       "    <tr style=\"text-align: right;\">\n",
       "      <th></th>\n",
       "      <th>Gender</th>\n",
       "      <th>Experience (Years)</th>\n",
       "      <th>Position</th>\n",
       "      <th>Salary</th>\n",
       "    </tr>\n",
       "  </thead>\n",
       "  <tbody>\n",
       "    <tr>\n",
       "      <th>0</th>\n",
       "      <td>F</td>\n",
       "      <td>4</td>\n",
       "      <td>DevOps Engineer</td>\n",
       "      <td>109976</td>\n",
       "    </tr>\n",
       "    <tr>\n",
       "      <th>1</th>\n",
       "      <td>M</td>\n",
       "      <td>6</td>\n",
       "      <td>DevOps Engineer</td>\n",
       "      <td>120088</td>\n",
       "    </tr>\n",
       "    <tr>\n",
       "      <th>2</th>\n",
       "      <td>M</td>\n",
       "      <td>17</td>\n",
       "      <td>Web Developer</td>\n",
       "      <td>181301</td>\n",
       "    </tr>\n",
       "    <tr>\n",
       "      <th>3</th>\n",
       "      <td>M</td>\n",
       "      <td>7</td>\n",
       "      <td>Systems Administrator</td>\n",
       "      <td>77530</td>\n",
       "    </tr>\n",
       "    <tr>\n",
       "      <th>4</th>\n",
       "      <td>F</td>\n",
       "      <td>13</td>\n",
       "      <td>Systems Administrator</td>\n",
       "      <td>152397</td>\n",
       "    </tr>\n",
       "  </tbody>\n",
       "</table>\n",
       "</div>"
      ],
      "text/plain": [
       "  Gender  Experience (Years)               Position  Salary\n",
       "0      F                   4        DevOps Engineer  109976\n",
       "1      M                   6        DevOps Engineer  120088\n",
       "2      M                  17          Web Developer  181301\n",
       "3      M                   7  Systems Administrator   77530\n",
       "4      F                  13  Systems Administrator  152397"
      ]
     },
     "execution_count": 15,
     "metadata": {},
     "output_type": "execute_result"
    }
   ],
   "source": [
    "df.head()"
   ]
  },
  {
   "cell_type": "code",
   "execution_count": 18,
   "metadata": {},
   "outputs": [
    {
     "data": {
      "image/png": "[encoded data removed]",
      "text/plain": [
       "<Figure size 1200x400 with 2 Axes>"
      ]
     },
     "metadata": {},
     "output_type": "display_data"
    }
   ],
   "source": [
    "plt.figure(figsize=(12,4))\n",
    "plt.subplot(1,2,1)\n",
    "sns.boxplot(x=df['Experience (Years)'])\n",
    "plt.subplot(1,2,2)\n",
    "sns.boxplot(x=df['Salary'])\n",
    "plt.show()"
   ]
  },
  {
   "cell_type": "code",
   "execution_count": 19,
   "metadata": {},
   "outputs": [
    {
     "name": "stdout",
     "output_type": "stream",
     "text": [
      "14609.375\n",
      "243610.375\n"
     ]
    }
   ],
   "source": [
    "q1 = df[\"Salary\"].quantile(.25)\n",
    "q3 = df[\"Salary\"].quantile(.75)\n",
    "IQR = q3 - q1 \n",
    "lower = q1 - (1.5 * IQR)\n",
    "upper = q3 + (1.5 * IQR)\n",
    "print(lower)\n",
    "print(upper)\n"
   ]
  },
  {
   "cell_type": "code",
   "execution_count": 20,
   "metadata": {},
   "outputs": [],
   "source": [
    "df = df[(df[\"Salary\"] <= upper) & (df[\"Salary\"] >= lower)]"
   ]
  },
  {
   "cell_type": "code",
   "execution_count": 21,
   "metadata": {},
   "outputs": [],
   "source": [
    "le = LabelEncoder()\n",
    "df[\"Gender\"] = le.fit_transform(df[\"Gender\"])\n",
    "df[\"Position\"] = le.fit_transform(df[\"Position\"])"
   ]
  },
  {
   "cell_type": "code",
   "execution_count": 22,
   "metadata": {},
   "outputs": [
    {
     "data": {
      "text/html": [
       "<div>\n",
       "<style scoped>\n",
       "    .dataframe tbody tr th:only-of-type {\n",
       "        vertical-align: middle;\n",
       "    }\n",
       "\n",
       "    .dataframe tbody tr th {\n",
       "        vertical-align: top;\n",
       "    }\n",
       "\n",
       "    .dataframe thead th {\n",
       "        text-align: right;\n",
       "    }\n",
       "</style>\n",
       "<table border=\"1\" class=\"dataframe\">\n",
       "  <thead>\n",
       "    <tr style=\"text-align: right;\">\n",
       "      <th></th>\n",
       "      <th>Gender</th>\n",
       "      <th>Experience (Years)</th>\n",
       "      <th>Position</th>\n",
       "      <th>Salary</th>\n",
       "    </tr>\n",
       "  </thead>\n",
       "  <tbody>\n",
       "    <tr>\n",
       "      <th>Gender</th>\n",
       "      <td>1.000000</td>\n",
       "      <td>-0.023988</td>\n",
       "      <td>-0.026299</td>\n",
       "      <td>-0.044992</td>\n",
       "    </tr>\n",
       "    <tr>\n",
       "      <th>Experience (Years)</th>\n",
       "      <td>-0.023988</td>\n",
       "      <td>1.000000</td>\n",
       "      <td>-0.016103</td>\n",
       "      <td>0.614757</td>\n",
       "    </tr>\n",
       "    <tr>\n",
       "      <th>Position</th>\n",
       "      <td>-0.026299</td>\n",
       "      <td>-0.016103</td>\n",
       "      <td>1.000000</td>\n",
       "      <td>-0.340351</td>\n",
       "    </tr>\n",
       "    <tr>\n",
       "      <th>Salary</th>\n",
       "      <td>-0.044992</td>\n",
       "      <td>0.614757</td>\n",
       "      <td>-0.340351</td>\n",
       "      <td>1.000000</td>\n",
       "    </tr>\n",
       "  </tbody>\n",
       "</table>\n",
       "</div>"
      ],
      "text/plain": [
       "                      Gender  Experience (Years)  Position    Salary\n",
       "Gender              1.000000           -0.023988 -0.026299 -0.044992\n",
       "Experience (Years) -0.023988            1.000000 -0.016103  0.614757\n",
       "Position           -0.026299           -0.016103  1.000000 -0.340351\n",
       "Salary             -0.044992            0.614757 -0.340351  1.000000"
      ]
     },
     "execution_count": 22,
     "metadata": {},
     "output_type": "execute_result"
    }
   ],
   "source": [
    "df.corr()"
   ]
  },
  {
   "cell_type": "code",
   "execution_count": 23,
   "metadata": {},
   "outputs": [
    {
     "data": {
      "text/plain": [
       "Gender               -0.044992\n",
       "Experience (Years)    0.614757\n",
       "Position             -0.340351\n",
       "Salary                1.000000\n",
       "Name: Salary, dtype: float64"
      ]
     },
     "execution_count": 23,
     "metadata": {},
     "output_type": "execute_result"
    }
   ],
   "source": [
    "df.corr()[\"Salary\"]"
   ]
  },
  {
   "cell_type": "code",
   "execution_count": 24,
   "metadata": {},
   "outputs": [],
   "source": [
    "x = df.drop(columns=['Salary'])\n",
    "y = df[\"Salary\"]\n",
    "x_train , x_test , y_train , y_test = train_test_split(x , y , train_size=.7 , random_state= 42)"
   ]
  },
  {
   "cell_type": "code",
   "execution_count": 25,
   "metadata": {},
   "outputs": [],
   "source": [
    "Model1 = LinearRegression()\n",
    "Model1.fit(x_train , y_train)\n",
    "y_predict1 = Model1.predict(x_test)"
   ]
  },
  {
   "cell_type": "code",
   "execution_count": 26,
   "metadata": {},
   "outputs": [
    {
     "name": "stdout",
     "output_type": "stream",
     "text": [
      "857746188.8226714\n",
      "29287.30422593844\n",
      "24707.39488687341\n",
      "0.21038166532643557\n",
      "0.5143396212000876\n"
     ]
    }
   ],
   "source": [
    "error = mean_squared_error(y_test , y_predict1)\n",
    "print(error)\n",
    "rmse = np.sqrt(error)\n",
    "print(rmse)\n",
    "print(mean_absolute_error(y_test , y_predict1))\n",
    "print(mean_absolute_percentage_error(y_test , y_predict1))\n",
    "print(r2_score(y_test , y_predict1))"
   ]
  },
  {
   "cell_type": "code",
   "execution_count": 27,
   "metadata": {},
   "outputs": [],
   "source": [
    "scaler = StandardScaler()\n",
    "x_train_scaled = scaler.fit_transform(x_train)\n",
    "x_test_scaled = scaler.transform(x_test)"
   ]
  },
  {
   "cell_type": "code",
   "execution_count": 28,
   "metadata": {},
   "outputs": [],
   "source": [
    "model2 = LinearRegression().fit(x_train_scaled , y_train)\n",
    "y_scaled_predict = model2.predict(x_test_scaled)"
   ]
  },
  {
   "cell_type": "code",
   "execution_count": 29,
   "metadata": {},
   "outputs": [
    {
     "name": "stdout",
     "output_type": "stream",
     "text": [
      "857746188.8226714\n",
      "29287.30422593844\n",
      "24707.394886873404\n",
      "0.2103816653264355\n",
      "0.5143396212000876\n"
     ]
    }
   ],
   "source": [
    "error = mean_squared_error(y_test , y_scaled_predict)\n",
    "print(error)\n",
    "rmse = np.sqrt(error)\n",
    "print(rmse)\n",
    "print(mean_absolute_error(y_test , y_scaled_predict))\n",
    "print(mean_absolute_percentage_error(y_test , y_scaled_predict))\n",
    "print(r2_score(y_test , y_scaled_predict))"
   ]
  },
  {
   "cell_type": "code",
   "execution_count": 30,
   "metadata": {},
   "outputs": [],
   "source": [
    "Model3 = DecisionTreeRegressor()\n",
    "Model3.fit(x_train,y_train)\n",
    "y_predict3 = Model3.predict(x_test)"
   ]
  },
  {
   "cell_type": "code",
   "execution_count": 31,
   "metadata": {},
   "outputs": [
    {
     "name": "stdout",
     "output_type": "stream",
     "text": [
      "1272794629.0109708\n",
      "35676.247406516435\n",
      "27990.441176470587\n",
      "0.2318940854780625\n",
      "0.2793370233350506\n"
     ]
    }
   ],
   "source": [
    "error = mean_squared_error(y_test , y_predict3)\n",
    "print(error)\n",
    "rmse = np.sqrt(error)\n",
    "print(rmse)\n",
    "print(mean_absolute_error(y_test , y_predict3))\n",
    "print(mean_absolute_percentage_error(y_test , y_predict3))\n",
    "print(r2_score(y_test , y_predict3))"
   ]
  },
  {
   "cell_type": "code",
   "execution_count": 38,
   "metadata": {},
   "outputs": [],
   "source": [
    "# stacking Regressor\n",
    "base_models =[\n",
    "    ('LR' , LinearRegression()),\n",
    "    ('dt' , DecisionTreeRegressor(random_state= 42 )),\n",
    "    ('rf' , RandomForestRegressor(n_estimators=10 , random_state=42)),\n",
    "    ('knn', KNeighborsRegressor(n_neighbors=5 ))\n",
    "] \n",
    "meta_model = LinearRegression()\n",
    "\n",
    "stacking_model = StackingRegressor(estimators=base_models , final_estimator= meta_model , cv = 5 )   ## cv sum of base models and meta model\n",
    "\n",
    "stacking_model.fit(x_train , y_train)\n",
    "y_predict_stacking = stacking_model.predict(x_test)"
   ]
  },
  {
   "cell_type": "code",
   "execution_count": 39,
   "metadata": {},
   "outputs": [
    {
     "name": "stdout",
     "output_type": "stream",
     "text": [
      "780975664.5487851\n",
      "27945.941826118244\n",
      "23617.606350759623\n",
      "0.19962109085189997\n",
      "0.5578074936143032\n"
     ]
    }
   ],
   "source": [
    "error = mean_squared_error(y_test , y_predict_stacking)\n",
    "print(error)\n",
    "rmse = np.sqrt(error)\n",
    "print(rmse)\n",
    "print(mean_absolute_error(y_test , y_predict_stacking))\n",
    "print(mean_absolute_percentage_error(y_test , y_predict_stacking))\n",
    "print(r2_score(y_test , y_predict_stacking))"
   ]
  },
  {
   "cell_type": "code",
   "execution_count": 40,
   "metadata": {},
   "outputs": [],
   "source": [
    "# stacking Regressor *scaled*\n",
    "base_models =[\n",
    "    ('LR' , LinearRegression()),\n",
    "    ('dt' , DecisionTreeRegressor(random_state= 42 )),\n",
    "    ('rf' , RandomForestRegressor(n_estimators=10 , random_state=42)),\n",
    "    ('knn', KNeighborsRegressor(n_neighbors=5 ))\n",
    "] \n",
    "meta_model = LinearRegression()\n",
    "\n",
    "stacking_model = StackingRegressor(estimators=base_models , final_estimator= meta_model , cv = 5 )   ## cv sum of base models and meta model\n",
    "\n",
    "stacking_model.fit(x_train_scaled , y_train)\n",
    "y_predict_stacking = stacking_model.predict(x_test_scaled)"
   ]
  },
  {
   "cell_type": "code",
   "execution_count": 41,
   "metadata": {},
   "outputs": [
    {
     "name": "stdout",
     "output_type": "stream",
     "text": [
      "772840936.0565577\n",
      "27800.016835544502\n",
      "23494.70472721176\n",
      "0.19905618279623738\n",
      "0.5624134194376429\n"
     ]
    }
   ],
   "source": [
    "error = mean_squared_error(y_test , y_predict_stacking)\n",
    "print(error)\n",
    "rmse = np.sqrt(error)\n",
    "print(rmse)\n",
    "print(mean_absolute_error(y_test , y_predict_stacking))\n",
    "print(mean_absolute_percentage_error(y_test , y_predict_stacking))\n",
    "print(r2_score(y_test , y_predict_stacking))"
   ]
  },
  {
   "cell_type": "code",
   "execution_count": null,
   "metadata": {},
   "outputs": [],
   "source": []
  },
  {
   "cell_type": "code",
   "execution_count": null,
   "metadata": {},
   "outputs": [],
   "source": []
  }
 ],
 "metadata": {
  "kernelspec": {
   "display_name": "Python 3",
   "language": "python",
   "name": "python3"
  },
  "language_info": {
   "codemirror_mode": {
    "name": "ipython",
    "version": 3
   },
   "file_extension": ".py",
   "mimetype": "text/x-python",
   "name": "python",
   "nbconvert_exporter": "python",
   "pygments_lexer": "ipython3",
   "version": "3.11.9"
  }
 },
 "nbformat": 4,
 "nbformat_minor": 2
}
